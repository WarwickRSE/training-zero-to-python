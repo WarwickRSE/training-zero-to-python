{
 "cells": [
  {
   "attachments": {},
   "cell_type": "markdown",
   "metadata": {},
   "source": [
    "# IO and Context\n",
    "\n",
    "IO is what we call reading and writing files, context is a way of managing what is avaliable to each code block. Objectives:\n",
    "\n",
    "- Open a file\n",
    "- Read data from a file\n",
    "- Close a file\n",
    "- Use a context to open a file then close it after reading.\n",
    "- Write to a file.\n",
    "\n",
    "Let's start again with an example:"
   ]
  },
  {
   "cell_type": "code",
   "execution_count": null,
   "metadata": {},
   "outputs": [],
   "source": [
    "# Open a file for reading\n",
    "f = open('lorem_ipsum.txt', 'r') # 'r' is the default mode\n",
    "file_contents = f.read()         # Read the entire file\n",
    "print(file_contents)             # Print the file contents\n",
    "f.close()                        # Close the file"
   ]
  },
  {
   "cell_type": "code",
   "execution_count": null,
   "metadata": {},
   "outputs": [],
   "source": [
    "f.read()"
   ]
  },
  {
   "attachments": {},
   "cell_type": "markdown",
   "metadata": {},
   "source": [
    "That printed 5 paragraphs of 'lorem ipsum'*. What exactly did it do?\n",
    "\n",
    "`open` is python function that takes two argumets. The `path` (fancy word for location) of a file and the `mode` which is the way in which you want to open the file.\n",
    "\n",
    "Here our path was just the name of the file, `lorem_ipusm.txt`, as the file is in the same folder this notebook is in. We used the mode `r` which means read. \n",
    "\n",
    "We then assign the result of `open` to the variable `f`. The result of open is a `stream`** what exactly this is isnt that important right now but what we can do with it is important.\n",
    "\n",
    "`f.read()` returns the entire content of the file as a string, we assign this string to a variable `file contents`. Then we print that to output with `print(file_contents)`.\n",
    "\n",
    "Lastly and this is very important, we do `f.close()` this closes the file and deactivates the stream. If we run any other commands on the stream python will rase an error that the file has been closed. \n",
    "\n",
    "\n",
    "## Why do all this just to open a file?\n",
    "\n",
    "Our file may be very large in fact it may be gigabytes of memory. We want to be able to open it, search it, and close it. During the time it is open it will be using our computers resources we want to extract the information we need and close it to regain these resourses. Thus using `f.read()` is only common for smaller files as otherwise we simply have a massive string stored in memory. \n",
    "\n",
    "Once we have looked at contexts we will look into how to read files more selectivly in memory efficent ways.\n",
    "\n",
    "\n",
    "<details>\n",
    "<summary>*What is lorem ipusm</summary>\n",
    "\n",
    "'Lorem ipsum' is placeholder text generated when you need lots of words with very little meaning! [Lorem Ipsum Generator](https://loremipsum.io/)\n",
    "\n",
    "</details>\n",
    "\n",
    "<details>\n",
    "<summary>**What is a stream</summary>\n",
    "\n",
    "'Lorem ipsum' is placeholder text generated when you need lots of words with very little meaning! [Lorem Ipsum Generator](https://loremipsum.io/)\n",
    "\n",
    "</details>\n",
    "\n",
    "\n",
    "### Contexts\n",
    "\n",
    "Contexts are ways to automate and protect file IO or file handling as it is sometimes called. Let's take a look at an example of using a file context:"
   ]
  },
  {
   "cell_type": "code",
   "execution_count": null,
   "metadata": {},
   "outputs": [],
   "source": [
    "with open('lorem_ipsum.txt', r) as f:\n",
    "    file_contents = f.read()\n",
    "    print(file_contents)"
   ]
  },
  {
   "attachments": {},
   "cell_type": "markdown",
   "metadata": {},
   "source": [
    "This code produces the same result as "
   ]
  },
  {
   "attachments": {},
   "cell_type": "markdown",
   "metadata": {},
   "source": [
    "Keep explanations to a minimum if there is greater depth make it optional using hidden text\n",
    "\n",
    "<details>\n",
    "<summary>Make use of dropdown!</summary>\n",
    "\n",
    "```html\n",
    "\n",
    "<details>\n",
    "<summary>Title</summary>\n",
    "\n",
    "\n",
    "</details>\n",
    "```\n",
    "\n",
    "</details>"
   ]
  },
  {
   "cell_type": "code",
   "execution_count": null,
   "metadata": {
    "vscode": {
     "languageId": "html"
    }
   },
   "outputs": [],
   "source": [
    "<details>\n",
    "<summary>Dropdown Template</summary>\n",
    "\n",
    "\n",
    "</details>"
   ]
  },
  {
   "cell_type": "code",
   "execution_count": null,
   "metadata": {},
   "outputs": [],
   "source": [
    "import things_that_would_scare_learners\n",
    "things_that_would_scare_learners.like_this()"
   ]
  }
 ],
 "metadata": {
  "kernelspec": {
   "display_name": ".venv",
   "language": "python",
   "name": "python3"
  },
  "language_info": {
   "codemirror_mode": {
    "name": "ipython",
    "version": 3
   },
   "file_extension": ".py",
   "mimetype": "text/x-python",
   "name": "python",
   "nbconvert_exporter": "python",
   "pygments_lexer": "ipython3",
   "version": "3.11.1"
  }
 },
 "nbformat": 4,
 "nbformat_minor": 2
}
