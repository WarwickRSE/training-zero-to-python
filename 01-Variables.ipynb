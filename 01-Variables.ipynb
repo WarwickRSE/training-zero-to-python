{
 "cells": [
  {
   "attachments": {},
   "cell_type": "markdown",
   "metadata": {},
   "source": [
    "\n",
    "# Variables in Python\n",
    "In this lesson we will learn:\n",
    "- What is a variable?\n",
    "- What types of thing can I store in a variable?\n",
    "- What is a list?\n",
    "- What can I store in a list?"
   ]
  },
  {
   "attachments": {},
   "cell_type": "markdown",
   "metadata": {},
   "source": [
    "One of the key concepts in programming is storing and retrieving data. In python this is done using variables.\n",
    "\n",
    "We can think of a variable as a name we give to a piece of information we want to work with. We can then refrence this information using the name of the variable. \n",
    "\n",
    "For example:"
   ]
  },
  {
   "cell_type": "code",
   "execution_count": 2,
   "metadata": {},
   "outputs": [
    {
     "name": "stdout",
     "output_type": "stream",
     "text": [
      "10\n"
     ]
    }
   ],
   "source": [
    "my_first_variable = 10 # In this line we take the information, the number 10 and assign it to 'my_first_variable'\n",
    "\n",
    "print(my_first_variable) # In this line we print the information stored in 'my_first_variable'"
   ]
  },
  {
   "attachments": {},
   "cell_type": "markdown",
   "metadata": {},
   "source": [
    "So thats not particually helpful its not done anything more than running:\n",
    "\n",
    "\n",
    "```print(10)```\n",
    "\n",
    "However, as we assigned the number 10 to a variable we can use it again using that variable's name."
   ]
  },
  {
   "cell_type": "code",
   "execution_count": 3,
   "metadata": {},
   "outputs": [],
   "source": [
    "# Here we create a new variable 'my_second_variable' and assign it the value of two times the first variable.\n",
    "my_second_variable = 2 * my_first_variable"
   ]
  },
  {
   "attachments": {},
   "cell_type": "markdown",
   "metadata": {},
   "source": [
    "So we now have two variables and we created the second by reusing the value of the first.\n",
    "\n",
    "On a side note you may have noticed that the code has some lines that start with a '#' that dont do anything.\n",
    "These are comments, they are to make the code more readable and are considered essential in programming. \n",
    "In Python a comment is started using a '#' and anything that follows it on that line will be ignored by the interpreter."
   ]
  },
  {
   "attachments": {},
   "cell_type": "markdown",
   "metadata": {},
   "source": [
    "The block below has comments describing what the code does/shoud do, I've ommited some of the code for you to write yourself. The code will follow the patterns already shown so try to copy them. When you are done click run and check you get the answer you expect."
   ]
  },
  {
   "cell_type": "code",
   "execution_count": 5,
   "metadata": {},
   "outputs": [
    {
     "name": "stdout",
     "output_type": "stream",
     "text": [
      "Our first variable has the value of 10\n",
      "Our second variable was made by doubbling our first and has the value of 20\n"
     ]
    }
   ],
   "source": [
    "# Create a third variable which has the value of 30, bonus points if you use our first two variables.\n",
    "\n",
    "# Print the value of all three of our first two variables and some text.\n",
    "print(\"Our first variable has the value of\", my_first_variable)\n",
    "print(\"Our second variable was made by doubbling our first and has the value of\", my_second_variable)\n",
    "# Print the value of the third variable and some explanatory text.\n",
    "\n",
    "# Done"
   ]
  },
  {
   "attachments": {},
   "cell_type": "markdown",
   "metadata": {},
   "source": [
    "The code you wrote should look like this:\n",
    "\n",
    "<details>\n",
    "<summary>Code spoiler here!</summary>\n",
    "\n",
    "```python\n",
    "# Create a third variable which has the value of 30, bonus points if you use our first two variables.\n",
    "my_third_variable = my_first_variable + my_second_variable\n",
    "# Print the value of all three of our first two variables and some text.\n",
    "print(\"Our first variable has the value of\", my_first_variable)\n",
    "print(\"Our second variable was made by doubbling our first and has the value of\", my_second_variable)\n",
    "# Print the value of the third variable and some explanatory text.\n",
    "print(\"Our third variable was made by adding the first and second and has the value of\", my_third_variable)\n",
    "# Done\n",
    "```\n",
    "</details>"
   ]
  },
  {
   "attachments": {},
   "cell_type": "markdown",
   "metadata": {},
   "source": [
    "So far we have stored numbers in variables but in python a variable can be used to store anything*.\n",
    "\n",
    "This brings us onto the topic of data types. Python is a not what we refer to as a 'typed' language. There is no need to specify the type of your variable the interptrer will sort this for you. Also if you change the data associated with a variable then the datatype will update.\n",
    "\n",
    "I'm not going to provide a exhaustive list here but I do want to list the basics.\n",
    "\n",
    "The following sections will show you some simple data type operations by example.\n",
    "\n",
    "\n",
    "<details>\n",
    "<summary>*Anything, really?</summary>\n",
    "<br>\n",
    "Please skip this unless you really want/need to know. This is part truth part analogy and for people who want a understanding of whats going on under the hood.\n",
    "\n",
    "In Python everything is an Object. These objects are stored in computer memory. A variable is really a 'pointer', or address, to the memory that stores that object. When you use the variable it goes to that memory address picks up the object and does some work to figure out what that object is and how it should proceed. In most cases this is simple, it goes to the memory figures out its looking at a number then can do 'number things' with that number. However, as anything is an object and anything can thus be assigned to a variable we can use variables to store (or point at) anything in Python. In Python we find functions, classes, iterators, dictonaries... these can all be assigned to a variable. This gives an enormous amount of flexibility to python, **however**, just because you can dosen't mean you should. It's also worth noting if you come from a C background a python variable will act like a pointer or a value depending on the object type, and this gets worse when you use libraries which may for good reason break with the built-in data types.\n",
    "\n",
    "Now, if you read and understood that, then you could probably skip the rest of this course. A good understanding of this comes from getting this wrong for 5+ years and learning when to be careful.\n",
    "</details>"
   ]
  },
  {
   "attachments": {},
   "cell_type": "markdown",
   "metadata": {},
   "source": [
    "Lets start by looking at numeric types:\n",
    "\n",
    "```int```: A integer value. \n",
    "\n",
    "```float```: A decimal value\n",
    "\n",
    "\n",
    "In the following cells I am going to create two variables then show using ```type()``` how they interact with one another."
   ]
  },
  {
   "cell_type": "code",
   "execution_count": 28,
   "metadata": {},
   "outputs": [
    {
     "name": "stdout",
     "output_type": "stream",
     "text": [
      "'my_int' has type: <class 'int'>\n",
      "'my_int' has type: <class 'float'>\n"
     ]
    }
   ],
   "source": [
    "# Create variables\n",
    "my_int = 2\n",
    "my_float = 3.0\n",
    "\n",
    "# Print their types\n",
    "print(\"'my_int' has type:\", type(my_int))\n",
    "print(\"'my_int' has type:\", type(my_float))"
   ]
  },
  {
   "attachments": {},
   "cell_type": "markdown",
   "metadata": {},
   "source": [
    "The next few cells are for you to explore how `float`s and `int`s interact.\n",
    "\n",
    "I want you to use some 'arithmetic operators'* to combine the variables and see what type the result is. Let me get you started with the addition operator `+`.\n",
    "\n",
    "The list of arithmetic operators are `+`,`-`,`*`,`/`,`%`,`**`, and `//`.\n",
    "\n",
    "<details>\n",
    "<summary>Operators additional info</summary>\n",
    "<br>\n",
    "There are loads of operators in programming languages. \n",
    "\n",
    "Python has the following operator groups:\n",
    "\n",
    "Arithmetic operators, Assignment operators, Comparison operators,Logical operators, Identity operators, Membership operators, and Bitwise operator\n",
    "\n",
    "</details>"
   ]
  },
  {
   "cell_type": "code",
   "execution_count": 29,
   "metadata": {},
   "outputs": [
    {
     "name": "stdout",
     "output_type": "stream",
     "text": [
      "<class 'int'>\n",
      "<class 'float'>\n",
      "<class 'float'>\n",
      "<class 'float'>\n"
     ]
    }
   ],
   "source": [
    "# I'm going to use a temporaty variable here `my_tmp`, which I will reassign afeter every step.\n",
    "\n",
    "# The `+` operator\n",
    "# int,int\n",
    "my_tmp = my_int + my_int\n",
    "print(type(my_tmp))\n",
    "# float,float\n",
    "my_tmp = my_float + my_float\n",
    "print(type(my_tmp))\n",
    "# int,float\n",
    "my_tmp = my_int + my_float\n",
    "print(type(my_tmp))\n",
    "# float,int\n",
    "my_tmp = my_float + my_int\n",
    "print(type(my_tmp))"
   ]
  },
  {
   "attachments": {},
   "cell_type": "markdown",
   "metadata": {},
   "source": [
    "We see that in all cases apart from adding two interger values the resulting type is a float.\n",
    "\n",
    "Use the example above as a template to test the rest of the types then have a think about the following questions."
   ]
  },
  {
   "cell_type": "code",
   "execution_count": 30,
   "metadata": {},
   "outputs": [],
   "source": [
    "# Using the `+` code as an example write your tests here. \n",
    "# You can even add new cells using the '+ code' button that appears \n",
    "# if you hover your mouse at the bottom of this cell, or the '+ code'\n",
    "# button in the top left corner of the notebook.\n",
    "\n"
   ]
  },
  {
   "cell_type": "markdown",
   "metadata": {},
   "source": []
  },
  {
   "cell_type": "code",
   "execution_count": 55,
   "metadata": {},
   "outputs": [
    {
     "name": "stdout",
     "output_type": "stream",
     "text": [
      "type <class 'int'> + type <class 'int'>, yeilds type <class 'int'>\n",
      "type <class 'float'> + type <class 'float'>, yeilds type <class 'float'>\n",
      "type <class 'int'> + type <class 'float'>, yeilds type <class 'float'>\n",
      "type <class 'float'> + type <class 'int'>, yeilds type <class 'float'>\n",
      "type <class 'int'> - type <class 'int'>, yeilds type <class 'int'>\n",
      "type <class 'float'> - type <class 'float'>, yeilds type <class 'float'>\n",
      "type <class 'int'> - type <class 'float'>, yeilds type <class 'float'>\n",
      "type <class 'float'> - type <class 'int'>, yeilds type <class 'float'>\n",
      "type <class 'int'> * type <class 'int'>, yeilds type <class 'int'>\n",
      "type <class 'float'> * type <class 'float'>, yeilds type <class 'float'>\n",
      "type <class 'int'> * type <class 'float'>, yeilds type <class 'float'>\n",
      "type <class 'float'> * type <class 'int'>, yeilds type <class 'float'>\n",
      "type <class 'int'> / type <class 'int'>, yeilds type <class 'float'>\n",
      "type <class 'float'> / type <class 'float'>, yeilds type <class 'float'>\n",
      "type <class 'int'> / type <class 'float'>, yeilds type <class 'float'>\n",
      "type <class 'float'> / type <class 'int'>, yeilds type <class 'float'>\n",
      "type <class 'int'> % type <class 'int'>, yeilds type <class 'int'>\n",
      "type <class 'float'> % type <class 'float'>, yeilds type <class 'float'>\n",
      "type <class 'int'> % type <class 'float'>, yeilds type <class 'float'>\n",
      "type <class 'float'> % type <class 'int'>, yeilds type <class 'float'>\n",
      "type <class 'int'> ** type <class 'int'>, yeilds type <class 'int'>\n",
      "type <class 'float'> ** type <class 'float'>, yeilds type <class 'float'>\n",
      "type <class 'int'> ** type <class 'float'>, yeilds type <class 'float'>\n",
      "type <class 'float'> ** type <class 'int'>, yeilds type <class 'float'>\n",
      "type <class 'int'> // type <class 'int'>, yeilds type <class 'int'>\n",
      "type <class 'float'> // type <class 'float'>, yeilds type <class 'float'>\n",
      "type <class 'int'> // type <class 'float'>, yeilds type <class 'float'>\n",
      "type <class 'float'> // type <class 'int'>, yeilds type <class 'float'>\n"
     ]
    }
   ],
   "source": [
    "def check_combo(input_op, input_1, input_2):\n",
    "    \"\"\"\n",
    "    A function to print the various results of different arithmetic operator input combonations on two input types.\n",
    "    Args:\n",
    "        input_op: A string representation of a input type\n",
    "        input_1: A numeric type to test\n",
    "        input_2: A numeric type to test\n",
    "    \"\"\"\n",
    "    \n",
    "    # Note we dont raise exceptions as we want to see and print the exception later, normally this would be bad\n",
    "    # practice.\n",
    "    import numbers\n",
    "    if type(input_1) == type(input_2):\n",
    "        print(\"Warning: input types are not diffrent this test will be very dull\")\n",
    "    for i in (input_1, input_2):\n",
    "        if not isinstance(i, numbers.Number):\n",
    "            print(\"Warning, datatype is not numeric\")\n",
    "\n",
    "    import operator\n",
    "    ops = {\n",
    "    '+' : operator.add,\n",
    "    '-' : operator.sub,\n",
    "    '*' : operator.mul,\n",
    "    '/' : operator.truediv,\n",
    "    '%' : operator.mod,\n",
    "    '**': operator.pow,\n",
    "    '//' : operator.floordiv,\n",
    "    }\n",
    "\n",
    "\n",
    "    input_combos = [(input_1, input_1),(input_2, input_2),(input_1, input_2),(input_2, input_1)]\n",
    "    for i1, i2 in input_combos:\n",
    "        try:\n",
    "            my_tmp = ops[input_op](i1, i2)\n",
    "            my_tmp_type = f\"type {type(my_tmp)}\"\n",
    "        except Exception as e:\n",
    "            exception_cause = f\"{ e.__class__ }\"\n",
    "            my_tmp_type = f\" { exception_cause[8:-2]}: {e}\"\n",
    "        print(f\"type {type(i1)} {input_op} type {type(i2)}, yeilds {my_tmp_type}\")\n",
    "\n",
    "for my_op in ['+', '-', '*', '/', '%', '**', '//' ]:\n",
    "    check_combo(my_op, my_int, my_float)"
   ]
  },
  {
   "cell_type": "code",
   "execution_count": 56,
   "metadata": {},
   "outputs": [
    {
     "name": "stdout",
     "output_type": "stream",
     "text": [
      "Warning, datatype is not numeric\n",
      "type <class 'str'> + type <class 'str'>, yeilds type <class 'str'>\n",
      "type <class 'int'> + type <class 'int'>, yeilds type <class 'int'>\n",
      "type <class 'str'> + type <class 'int'>, yeilds  'TypeError: can only concatenate str (not \"int\") to str\n",
      "type <class 'int'> + type <class 'str'>, yeilds  'TypeError: unsupported operand type(s) for +: 'int' and 'str'\n"
     ]
    }
   ],
   "source": [
    "check_combo('+', \"hello\", 1)"
   ]
  },
  {
   "cell_type": "code",
   "execution_count": 39,
   "metadata": {},
   "outputs": [
    {
     "ename": "NameError",
     "evalue": "name 'e' is not defined",
     "output_type": "error",
     "traceback": [
      "\u001b[0;31m---------------------------------------------------------------------------\u001b[0m",
      "\u001b[0;31mNameError\u001b[0m                                 Traceback (most recent call last)",
      "Cell \u001b[0;32mIn[39], line 1\u001b[0m\n\u001b[0;32m----> 1\u001b[0m e\n",
      "\u001b[0;31mNameError\u001b[0m: name 'e' is not defined"
     ]
    }
   ],
   "source": []
  },
  {
   "cell_type": "code",
   "execution_count": 41,
   "metadata": {},
   "outputs": [],
   "source": [
    "try:\n",
    "    \"hi\"+1\n",
    "except Exception as e:\n",
    "    err = e"
   ]
  },
  {
   "cell_type": "code",
   "execution_count": 49,
   "metadata": {},
   "outputs": [
    {
     "ename": "AttributeError",
     "evalue": "'TypeError' object has no attribute '__name__'",
     "output_type": "error",
     "traceback": [
      "\u001b[0;31m---------------------------------------------------------------------------\u001b[0m",
      "\u001b[0;31mAttributeError\u001b[0m                            Traceback (most recent call last)",
      "Cell \u001b[0;32mIn[49], line 1\u001b[0m\n\u001b[0;32m----> 1\u001b[0m \u001b[39mprint\u001b[39m(err\u001b[39m.\u001b[39;49m\u001b[39m__name__\u001b[39;49m)\n",
      "\u001b[0;31mAttributeError\u001b[0m: 'TypeError' object has no attribute '__name__'"
     ]
    }
   ],
   "source": [
    "print(err.__name__)"
   ]
  },
  {
   "cell_type": "code",
   "execution_count": 54,
   "metadata": {},
   "outputs": [
    {
     "data": {
      "text/plain": [
       "\"<class 'TypeError'>\""
      ]
     },
     "execution_count": 54,
     "metadata": {},
     "output_type": "execute_result"
    }
   ],
   "source": []
  },
  {
   "cell_type": "code",
   "execution_count": null,
   "metadata": {},
   "outputs": [],
   "source": []
  }
 ],
 "metadata": {
  "kernelspec": {
   "display_name": ".venv",
   "language": "python",
   "name": "python3"
  },
  "language_info": {
   "codemirror_mode": {
    "name": "ipython",
    "version": 3
   },
   "file_extension": ".py",
   "mimetype": "text/x-python",
   "name": "python",
   "nbconvert_exporter": "python",
   "pygments_lexer": "ipython3",
   "version": "3.11.1"
  },
  "orig_nbformat": 4
 },
 "nbformat": 4,
 "nbformat_minor": 2
}
