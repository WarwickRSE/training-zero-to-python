{
 "cells": [
  {
   "attachments": {},
   "cell_type": "markdown",
   "metadata": {},
   "source": [
    "# Zero To Python\n",
    "Welcome to zero to python. In this course you are going to learn the following:\n",
    "- How to run lines of python.\n",
    "- The basic Python data types.\n",
    "- How to use Python to...\n",
    "-"
   ]
  },
  {
   "attachments": {},
   "cell_type": "markdown",
   "metadata": {},
   "source": [
    "Before we get started a few terms we will need:\n",
    "\n",
    "- `notebook` this is what you are looking at they are desined to have code and explanation together they are made of cells.\n",
    "- `cell`s are the boxes where these notes are and also where the code is.\n",
    "- `code` is the text, symbols and numbers in one of these cells.\n",
    "- `dropdowns` There is an example below, these are extra information, claification, hints, or answers. They are totally optional if any contain really confusing topics they will have a skip warning. \n",
    "\n",
    "<details>\n",
    "<summary> Dropdown </summary>\n",
    "\n",
    "Some information you dont need to see right away.\n",
    "\n",
    "</details>\n",
    "\n",
    "### Is this top quality programming?\n",
    "Short answer no. Really good programming is hard, takes years of practice, and is a full time job. Some of the code in these notebooks is simply bad, but, it is designed to be readable and develop your skills. The examples and challanges will try to build you to a point where you can read and write basic python code. \n",
    "\n",
    "Where strictly bad practices are required because we havent yet covered what we need to maintain good practice this will be noted. Where simplifcations or over generlisations are made there will be a dropdown with further explnation. Those dropdowns are designed for completeness without overwhelming you with unnecessasy details they do not need to be read/understood.\n",
    "\n",
    "### Methodology \n",
    "This is a hands on learning course as much as possible you will be asked to copy, modify, and write code. **You will get things wrong**, this is fine simply re-write the code and try again. For any challanges you come across then you can look at the hints. The hints are ordered from a nudge to a fill in the blanks solution. There is nothing wrong with needing the fill in the blanks but if you use them try doing the challange again in a few days without looking at the hints.\n",
    "\n",
    "### Outcomes\n",
    "Once you have finished this course you will not be a scientific programmer. What you will have is a foundation for other courses that will be geared to solving real problems. Or be able to more confidently tackle an 'intro to' lecture course where topics and ideas may assume you have some base understanding of python. \n",
    "\n"
   ]
  },
  {
   "attachments": {},
   "cell_type": "markdown",
   "metadata": {},
   "source": [
    "# Lets get started\n",
    "\n",
    "We are going to start this lesson by running code. Hover your mouse over the 'cell' below this one and press the run button that I have circled in red in this screenshot.\n",
    "\n",
    "![How to run a cell](img/running-a-cell.png)"
   ]
  },
  {
   "cell_type": "code",
   "execution_count": null,
   "metadata": {},
   "outputs": [],
   "source": [
    "print(\"Hello World\")"
   ]
  },
  {
   "attachments": {},
   "cell_type": "markdown",
   "metadata": {},
   "source": [
    "Great you've run your first Python code. \n",
    "\n",
    "For now let's not worry about how that worked and let's write some code. I've left an empty code cell for you to work in. \n",
    "Here is your first task:\n",
    "1. Copy the code above. That is all the text in the cell above this one.\n",
    "2. Change the message to something of your choice (Hint: the message needs to be in single or double quotes)\n",
    "2. Click the play button."
   ]
  },
  {
   "cell_type": "code",
   "execution_count": null,
   "metadata": {},
   "outputs": [],
   "source": []
  },
  {
   "attachments": {},
   "cell_type": "markdown",
   "metadata": {},
   "source": [
    "Thats all there is too it, Python is an interpreted language so it reads things line by line this means we can write single lines of code and run them. Then the *interperter* will run the code and display the output. For now I've done the interpreter setup for you, but on most systems Python interpreters come installed or can easialy be installed."
   ]
  }
 ],
 "metadata": {
  "kernelspec": {
   "display_name": ".venv",
   "language": "python",
   "name": "python3"
  },
  "language_info": {
   "codemirror_mode": {
    "name": "ipython",
    "version": 3
   },
   "file_extension": ".py",
   "mimetype": "text/x-python",
   "name": "python",
   "nbconvert_exporter": "python",
   "pygments_lexer": "ipython3",
   "version": "3.11.1"
  }
 },
 "nbformat": 4,
 "nbformat_minor": 2
}
