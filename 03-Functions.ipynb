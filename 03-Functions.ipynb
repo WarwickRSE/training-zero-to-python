{
 "cells": [
  {
   "attachments": {},
   "cell_type": "markdown",
   "metadata": {},
   "source": [
    "# Functions\n",
    "\n",
    "Functions are essential to wiriting good reproducable code. Functions allow you to reuse and repeat sections of code without writing the same line multiple times. In this notebook we will write two kinds of functions, standard functions and lambda functions. \n",
    "\n",
    "Objectives:\n",
    "- Learn the atonomy of a standard python function.\n",
    "- Write and (re)use a function to simplify code.\n",
    "- Use functions to power up our list comprhensions.\n",
    "- Use map to write one liners that are CPU efficent.\n",
    "- Learn how to construct a lambda function.\n",
    "- Write a lambda function.\n",
    "- Use lambda functions in list comprehensions.\n",
    "\n",
    "\n",
    "## Example\n",
    "\n",
    "Let's jump in with a simple python function then pick it apart line by line."
   ]
  },
  {
   "cell_type": "code",
   "execution_count": null,
   "metadata": {},
   "outputs": [],
   "source": [
    "def get_abs_difference(input_one: float, input_two: float) -> float:\n",
    "    \"\"\" This function calculates the absolute difference between two input floats.\n",
    "    Parameters\n",
    "    ----------\n",
    "    input_one : float\n",
    "        A float number.\n",
    "    input_two : float\n",
    "        A float number.\n",
    "    \n",
    "    Returns\n",
    "    -------\n",
    "    float\n",
    "        The absoloute diffrence between input_one and input_two.\n",
    "    \"\"\"\n",
    "    if input_one < input_two:\n",
    "        output = input_two - input_one\n",
    "    elif input_one > input_two:\n",
    "        output = input_one - input_two\n",
    "    else:\n",
    "        output = 0.\n",
    "    return output"
   ]
  },
  {
   "attachments": {},
   "cell_type": "markdown",
   "metadata": {},
   "source": [
    "#### Breakdown:\n",
    "\n",
    "\n",
    "##### First Line\n",
    "\n",
    "The first line is the most important line of the function, it contains a lot of information about what the function is going to do.\n",
    "\n",
    "Here is the first line of the example function:\n",
    "\n",
    "```python\n",
    "\n",
    "def get_abs_difference(input_one: float, input_two: float) -> float:\n",
    "#^^     ^^^^^^^^       ^^^^^^^^^  ^^^^^                    ^^^^^^^^\n",
    "#^^,  Function name,  Input name, Type hint,              Return Type\n",
    "#Function keyword     ^^^^^^^^^^^^^^^^^^^^^^^^^^^^^^^^^^^\n",
    "#                     Function arguments (here there are two)\n",
    "```\n",
    "\n",
    "Breaking down the elements:\n",
    "\n",
    "- Function keyword: `def` is the keyword that tells the interpreter that we are defining a function.\n",
    "- Function name: This is the name which we will use to call the function.\n",
    "- Function Arguments: These are variables you pass to your function there are two here but we can have 0 to as many as makes sense. Each argument has two parts:\n",
    "    - Input name: This is the name we give to an input, within the function it will act like varibles we are already used to.\n",
    "    - Type hint: Tells users (and the computer) know what type the input is meant to be. This isn't strictly required but highly reccomendeded. \n",
    "- Return type: Tells users (and the computer) know what type the return is meant to be.\n",
    "\n",
    "##### Docstring\n",
    "\n",
    "The next part of the function is called the docstring. \n",
    "\n",
    "```python\n",
    "\n",
    "    \"\"\" This function calculates the absolute difference between two input floats.\n",
    "    Parameters\n",
    "    ----------\n",
    "    input_one : float\n",
    "        A float number.\n",
    "    input_two : float\n",
    "        A float number.\n",
    "    \n",
    "    Returns\n",
    "    -------\n",
    "    float\n",
    "        The absoloute diffrence between input_one and input_two.\n",
    "    \"\"\"\n",
    "\n",
    "```\n",
    "Note the docstring here follows the [numpydoc](https://numpydoc.readthedocs.io/en/latest/) format, many projects will have their own formats. If working on a joint project then use whatever is already in place. \n",
    "\n",
    "The docstring is the main documentation of the function. The docstring starts with tripple double quotes `\"\"\"`. Immediatly following that is a description of the function, this is desinged to help users of the function to understand its purpose.\n",
    "\n",
    "Next in the docstring comes the `Parameters`. Here we list each of the input variables, the variables inside the brackets.\n",
    "\n",
    "```input_one : float```\n",
    "\n",
    "First up is the variable name then a colon then the variable type.\n",
    "\n",
    "The next line is a description of the input.\n",
    "\n",
    "Finally come the `Returns`\n",
    "\n",
    "The first line is the type of the return then the next line is a description of what the function returns.\n",
    "\n",
    "There is far more that can go in a docstring but as this is a beginner course we will leave it to just these three basics\n",
    "\n",
    "##### Code\n",
    "\n",
    "The internal code of your function is indented by one block. It will use your arguments to do some calculation or task that you will want to repeat many times.\n",
    "\n",
    "In our example is calculates the absolute diffrence between two inputs.\n",
    "\n",
    "##### `return`\n",
    "\n",
    "The final line of a python function will be a `return`. `return` tells Python that you are done and to send the value passed to it back to the main program.\n",
    "\n",
    "\n",
    "\n",
    "### Some rules that are not really rules"
   ]
  },
  {
   "cell_type": "code",
   "execution_count": null,
   "metadata": {},
   "outputs": [],
   "source": [
    "# Write well commented code cells to encourage good practice and enrich content\n",
    "print('test')"
   ]
  },
  {
   "attachments": {},
   "cell_type": "markdown",
   "metadata": {},
   "source": [
    "Keep explanations to a minimum if there is greater depth make it optional using hidden text\n",
    "\n",
    "<details>\n",
    "<summary>Make use of dropdown!</summary>\n",
    "\n",
    "```html\n",
    "\n",
    "<details>\n",
    "<summary>Title</summary>\n",
    "\n",
    "\n",
    "</details>\n",
    "```\n",
    "\n",
    "</details>"
   ]
  },
  {
   "cell_type": "code",
   "execution_count": null,
   "metadata": {
    "vscode": {
     "languageId": "html"
    }
   },
   "outputs": [],
   "source": [
    "<details>\n",
    "<summary>Dropdown Template</summary>\n",
    "\n",
    "\n",
    "</details>"
   ]
  },
  {
   "cell_type": "code",
   "execution_count": null,
   "metadata": {},
   "outputs": [],
   "source": [
    "import things_that_would_scare_learners\n",
    "things_that_would_scare_learners.like_this()"
   ]
  }
 ],
 "metadata": {
  "kernelspec": {
   "display_name": ".venv",
   "language": "python",
   "name": "python3"
  },
  "language_info": {
   "name": "python",
   "version": "3.11.1"
  }
 },
 "nbformat": 4,
 "nbformat_minor": 2
}
