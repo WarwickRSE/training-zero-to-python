{
 "cells": [
  {
   "attachments": {},
   "cell_type": "markdown",
   "metadata": {},
   "source": [
    "# Where to go now?\n",
    "\n",
    "You know enough python to attempt basic tasks loading and tasks such as processing simple numeric data is certianly possible. \n",
    "\n",
    "### Open Challanges\n",
    "\n",
    "The best way to learn is to try to solve a problem here are some suggestions as to where to start:\n",
    "\n",
    "1. Take a simple data processing task you do frequently and then write some Python code that completes that task. Check the results of your Python task against the result you get working manually. \n",
    "2. Pick a small problem you think you can solve using python and write some code to fix it.\n",
    "3. Try taking on a programming challange several websites provide challanges, [Project Euler](https://projecteuler.net/archives), [codecademy](https://www.codecademy.com/resources/blog/python-code-challenges-for-beginners/)\n",
    "\n",
    "\n",
    "Write code in the cell below OR create a python script*. \n",
    "\n",
    "<details>\n",
    "<summary>What is a python script?</summary>\n",
    "This which is like a word doc but for python code. To do this open your favourite text editor (or IDE) and create a new file that is called somthing line `my_file_name.py` the `.py` specifys its python you can then run this using a terminal search terminal on Mac or see WSL on windows. When you are in the terminal use the command `python path/to/my_file_name.py`. If you dont understand that seach out a bash/shell/terminal course (coming soon...).\n",
    "</details>"
   ]
  },
  {
   "cell_type": "code",
   "execution_count": null,
   "metadata": {},
   "outputs": [],
   "source": [
    "# For your own codes you can add new cells using the \"+\" button that appears when you hover over the bottom of a cell."
   ]
  },
  {
   "attachments": {},
   "cell_type": "markdown",
   "metadata": {},
   "source": [
    "## What about bigger more challanging problems?\n",
    "\n",
    "Python has a massive comminity that develop tools, it is likely if you can think it there is a package that can help you do it. The way to find these libraies is to ask a colleuge who uses Python, look at Python code others in your field are using, or use a search engine.\n",
    "\n",
    "To find good answers in a seach engine use search phrases like.\n",
    "\n",
    "`genetics package python` - [see the results](https://duckduckgo.com/?q=genetics+package+python&ia=web)\n",
    "\n",
    "or \n",
    "\n",
    "`how to invert a matrix in python` - [see the results](https://duckduckgo.com/?q=how+to+invert+a+matrix+in+python&ia=web)\n",
    "\n",
    "\n",
    "\n",
    "Python covers many domains using popular package so some starting points:\n",
    "\n",
    "Numerical Calculations: `numpy`\n",
    "\n",
    "Data Visulisation: `seaborn`, `matplotlib`, `plotly`\n",
    "\n",
    "Scientific: `scipy`, `astropy`, `biopython`\n",
    "\n",
    "Websites: `django`, `flask`\n",
    "\n",
    "Databases: `SQLalchemy` \n",
    "\n",
    "Machiene Learning: `Pytorch`, `Tensorflow`\n",
    "\n",
    "\n",
    "\n",
    "## How to use a library\n",
    "\n",
    "The first port of call is to find the package you are intrested in then find it's install instructions. Usually we can use something like [PyPi](https://pypi.org/) if it can be found here then to install it one can use the terminal to run:\n",
    "\n",
    "`pip install package`\n",
    "\n",
    "or in a jupyter cell like we have been using (this is recommended less):\n",
    "\n",
    "`! pip install package`\n",
    "\n",
    "replacing `package` with the name of the library you found.\n",
    "\n",
    "Although, you may want to see the lesson on using python environments first (coming soon...)."
   ]
  }
 ],
 "metadata": {
  "kernelspec": {
   "display_name": ".venv",
   "language": "python",
   "name": "python3"
  },
  "language_info": {
   "name": "python",
   "version": "3.11.1"
  }
 },
 "nbformat": 4,
 "nbformat_minor": 2
}
