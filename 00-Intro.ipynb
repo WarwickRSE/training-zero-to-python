{
 "cells": [
  {
   "attachments": {},
   "cell_type": "markdown",
   "metadata": {},
   "source": [
    "# Zero To Python\n",
    "Welcome to Zero to Python. In this course you are going to learn the following:\n",
    "- How to run lines of python.\n",
    "- The basic Python data types.\n",
    "- How to use Lists and Loops.\n",
    "- How to write functions.\n",
    "- How to use file IO."
   ]
  },
  {
   "attachments": {},
   "cell_type": "markdown",
   "metadata": {},
   "source": [
    "Before we get started a few terms we will need:\n",
    "\n",
    "- `notebook` this is what you are looking at. They are designed to have code and explanation together, and they are made of cells.\n",
    "- `cell`s are the boxes where these notes are and also where the code is.\n",
    "- `code` is the text, symbols and numbers in one of these cells.\n",
    "- `dropdowns` There is an example below, these are extra information, clarification, hints, or answers. They are totally optional. If any contain really confusing topics they will have a skip warning. \n",
    "\n",
    "<details>\n",
    "<summary> Dropdown </summary>\n",
    "\n",
    "Some information you don't need to see right away.\n",
    "\n",
    "</details>\n",
    "\n",
    "### Is this top quality programming?\n",
    "Short answer no. Really good programming is hard, takes years of practice, and is a full time job. Some of the code in these notebooks is simply bad, but, it is designed to be readable and develop your skills. The examples and challenges will try to build you to a point where you can read and write basic python code. \n",
    "\n",
    "Where strictly bad practices are required, because we haven't yet covered what we need to maintain good practice, this will be noted. Where simplifications or over generalizations are made there will be a dropdown with further explanation. Those dropdowns are designed for completeness without overwhelming you with unnecessary details - they do not need to be read/understood.\n",
    "\n",
    "### Methodology \n",
    "This is a hands on learning course. As much as possible you will be asked to copy, modify, and write code. **You will get things wrong**, this is fine. Simply re-write the code and try again. For any challenges you get stuck on you can look at the provided hints. The hints are ordered from a nudge to a fill in the blanks solution. There is nothing wrong with needing the fill in the blanks solution, but if you use them try doing the challenge again in a few days without looking at the hints.\n",
    "\n",
    "### Outcomes\n",
    "Once you have finished this course you will not be a scientific programmer. What you will have is a foundation for other courses that will be geared to solving real problems. Or be able to more confidently tackle an 'intro to' lecture course where topics and ideas may assume you have some base understanding of python. \n",
    "\n"
   ]
  },
  {
   "attachments": {},
   "cell_type": "markdown",
   "metadata": {},
   "source": [
    "# Lets get started\n",
    "\n",
    "We are going to start this lesson by running code. Click on the 'cell' below this one and press the run button that I have circled in red in this screenshot.\n",
    "\n",
    "![How to run a cell](img/running-a-cell.png)"
   ]
  },
  {
   "cell_type": "code",
   "execution_count": null,
   "metadata": {},
   "outputs": [],
   "source": [
    "print(\"Hello World\")"
   ]
  },
  {
   "attachments": {},
   "cell_type": "markdown",
   "metadata": {},
   "source": [
    "Great! You've run your first Python code. \n",
    "\n",
    "For now let's not worry about how that worked and let's write some code. I've left an empty code cell for you to work in. \n",
    "Here is your first task:\n",
    "1. Copy the code above. That is all the text in the cell above this one.\n",
    "2. Change the message to something of your choice (Hint: the message needs to be in single or double quotes)\n",
    "2. Click the play button."
   ]
  },
  {
   "cell_type": "code",
   "execution_count": null,
   "metadata": {},
   "outputs": [],
   "source": []
  },
  {
   "attachments": {},
   "cell_type": "markdown",
   "metadata": {},
   "source": [
    "Thats all there is to it, Python is an interpreted language so it reads things line by line. This means we can write single lines of code and run them. Then the *interpreter* will run the code and display the output. For now I've done the interpreter setup for you, but on most systems Python interpreters come installed or can easily be installed.\n",
    "\n",
    "## A forward on Errors.\n",
    "\n",
    "This is a 'hands on' course, this means you will be writing code as much as possible. When writing code it is expected that the coder will make mistakes. Mistakes mean you will see errors. Errors will look like this:\n",
    "\n",
    "![Image of a name error](img/simple-error.png)\n",
    "\n",
    "Unpacking this `Traceback`*: \n",
    "\n",
    "`____Error` - This is the type of error, you will see `NameError`, `ValueError`, `SyntaxError`, `TypeError` e.t.c...\n",
    "\n",
    "`Cell In[X], line Y` - `Cell In[X]` refers to the cell that the error occurred in `X` will relate to the cell. `line Y` is then the line number in the code where the error occurred.\n",
    "\n",
    "`---> Y code` - `Y` is again the line number, `code` will be the code on that line that caused the error.\n",
    "\n",
    "`____Error: message` - This is the type of error again followed by a message that provides more information.\n",
    "\n",
    "\n",
    "<details>\n",
    "<summary>*Traceback</summary>\n",
    "\n",
    "The traceback is the technical term for an error message, it means that the computer is 'tracing' the cause of your error. This can get long, but it is just stepping though the program trying to identify what the coder did to cause the problem.\n",
    "\n",
    "</details>\n",
    "\n",
    "### This all looks a bit much!\n",
    "\n",
    "Don't Panic, if any of this looks unfamiliar or confusing thats fine. You will likely see many errors during this course, this is a good things as errors in Python are verbose and helpful when 'debugging'**. Debugging is the process of understanding where your code stopped working, identifying the problem and fixing it. As you progress the words and ideas communicated by an error will progress along with your other knowledge.\n",
    "\n",
    "<details>\n",
    "<summary>**Debugging</summary>\n",
    "\n",
    "The story goes de-bugging got it's name from a computer program giving erroneous results that turned out to be due to a bug that had flown into the computer and got stuck. Thus the process of removing errors in computing is known as 'debugging'. Whilst this is a truthful occurrence the term bug had been around longer, but that makes for a less good [story](https://en.wikipedia.org/wiki/Debugging).\n",
    "\n",
    "</details>\n",
    "\n",
    "\n",
    "### Do I need to worry?\n",
    "\n",
    "With modern computers it is very unlikely you will be able to do any permanent damage, the worst possible case is accidentally deleting files. You should have all original data sources backed up and one of the main benefits of a well scripted code is that any data products are reproducible.\n",
    "With that precaution in place you are fine to write and test code as you like!\n"
   ]
  },
  {
   "attachments": {},
   "cell_type": "markdown",
   "metadata": {},
   "source": [
    "## Next Section\n",
    "\n",
    "[01-Variables](./01-Variables.ipynb)"
   ]
  }
 ],
 "metadata": {
  "kernelspec": {
   "display_name": "Python 3 (ipykernel)",
   "language": "python",
   "name": "python3"
  },
  "language_info": {
   "codemirror_mode": {
    "name": "ipython",
    "version": 3
   },
   "file_extension": ".py",
   "mimetype": "text/x-python",
   "name": "python",
   "nbconvert_exporter": "python",
   "pygments_lexer": "ipython3",
   "version": "3.11.7"
  }
 },
 "nbformat": 4,
 "nbformat_minor": 2
}
