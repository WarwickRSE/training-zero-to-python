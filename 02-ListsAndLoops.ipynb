{
 "cells": [
  {
   "attachments": {},
   "cell_type": "markdown",
   "metadata": {},
   "source": [
    "# Adding structure to our data\n",
    "\n",
    "In this lesson we will learn:\n",
    "- What a `list` is.\n",
    "- What a `loop` is.\n",
    "- What a `range` is.\n",
    "- How to use lists, ranges, and loops to work with more structure.\n",
    "- What a `str` (string) is and how it relates to lists.\n",
    "- Why should I use a list comprehension, and not a loop?\n",
    "\n",
    "So far we have only considerd variables which hold a singular value. It will often be the case that you want to do the same operation on a collection of values, or store related values together in a data structure. Lists are the simpelest way of accheiving both these tasks. However, in time you will come to have better ways to do both these things using Arrays (numpy) and Dictionaries (built in python). We use python lists and ranges to teach here for a few reasons:\n",
    "1. You will end up using lists and loops when writing python.\n",
    "2. They are a great entry point to the concepts we need to learn.\n",
    "3. They are really useful when used correctly.\n",
    "\n",
    "### Lists\n",
    "\n",
    "A `list` in python is simply a collection of data where each element of data can be accessed using its position.\n",
    "\n",
    "Let's start with an example and then break it down:"
   ]
  },
  {
   "cell_type": "code",
   "execution_count": null,
   "metadata": {},
   "outputs": [],
   "source": [
    "# Define a list and fill it with a series of data, \n",
    "# we will call this list my_list abut we could call it anything we like.\n",
    "my_list = [4, 2.0, 3.4, 7, 9]\n",
    "#         ^                 ^\n",
    "# The [...] characters indicated above are how we declare a list, the opening `[` starts the list the closing `]` stops the list.\n",
    "# In the list we have list elements we can have from no elements, an empty list:\n",
    "empty_list = []\n",
    "# To as many elements as we like (up to the storage capacity of the computer then things get weird.)\n",
    "another_list = [2, 3, 4, 5]\n",
    "#                ^  ^  ^\n",
    "# Elements in a list are seperated by commas, and its good form to follow each comma with a space.\n"
   ]
  },
  {
   "attachments": {},
   "cell_type": "markdown",
   "metadata": {},
   "source": [
    "Keep explanations to a minimum if there is greater depth make it optional using hidden text\n",
    "\n",
    "<details>\n",
    "<summary>Make use of dropdown!</summary>\n",
    "\n",
    "```html\n",
    "\n",
    "<details>\n",
    "<summary>Title</summary>\n",
    "\n",
    "\n",
    "</details>\n",
    "```\n",
    "\n",
    "</details>"
   ]
  },
  {
   "cell_type": "code",
   "execution_count": null,
   "metadata": {
    "vscode": {
     "languageId": "html"
    }
   },
   "outputs": [],
   "source": [
    "<details>\n",
    "<summary>Dropdown Template</summary>\n",
    "\n",
    "\n",
    "</details>"
   ]
  },
  {
   "cell_type": "code",
   "execution_count": null,
   "metadata": {},
   "outputs": [],
   "source": [
    "import things_that_would_scare_learners\n",
    "things_that_would_scare_learners.like_this()"
   ]
  }
 ],
 "metadata": {
  "kernelspec": {
   "display_name": ".venv",
   "language": "python",
   "name": "python3"
  },
  "language_info": {
   "codemirror_mode": {
    "name": "ipython",
    "version": 3
   },
   "file_extension": ".py",
   "mimetype": "text/x-python",
   "name": "python",
   "nbconvert_exporter": "python",
   "pygments_lexer": "ipython3",
   "version": "3.11.1"
  }
 },
 "nbformat": 4,
 "nbformat_minor": 2
}
