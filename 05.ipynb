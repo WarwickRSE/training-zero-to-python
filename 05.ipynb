{
 "cells": [
  {
   "attachments": {},
   "cell_type": "markdown",
   "metadata": {},
   "source": [
    "# Markdown\n"
   ]
  },
  {
   "cell_type": "code",
   "execution_count": null,
   "metadata": {},
   "outputs": [],
   "source": [
    "# Write well commented code cells to encourage good practice and enrich content\n",
    "print('test')"
   ]
  },
  {
   "attachments": {},
   "cell_type": "markdown",
   "metadata": {},
   "source": [
    "Keep explanations to a minimum if there is greater depth make it optional using hidden text\n",
    "\n",
    "<details>\n",
    "<summary>Make use of dropdown!</summary>\n",
    "\n",
    "```html\n",
    "\n",
    "<details>\n",
    "<summary>Title</summary>\n",
    "\n",
    "\n",
    "</details>\n",
    "```\n",
    "\n",
    "</details>"
   ]
  },
  {
   "cell_type": "code",
   "execution_count": null,
   "metadata": {
    "vscode": {
     "languageId": "html"
    }
   },
   "outputs": [],
   "source": [
    "<details>\n",
    "<summary>Dropdown Template</summary>\n",
    "\n",
    "\n",
    "</details>"
   ]
  },
  {
   "cell_type": "code",
   "execution_count": null,
   "metadata": {},
   "outputs": [],
   "source": [
    "import things_that_would_scare_learners\n",
    "things_that_would_scare_learners.like_this()"
   ]
  }
 ],
 "metadata": {
  "kernelspec": {
   "display_name": ".venv",
   "language": "python",
   "name": "python3"
  },
  "language_info": {
   "name": "python",
   "version": "3.11.1"
  }
 },
 "nbformat": 4,
 "nbformat_minor": 2
}
