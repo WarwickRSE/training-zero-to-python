{
 "cells": [
  {
   "attachments": {},
   "cell_type": "markdown",
   "metadata": {},
   "source": [
    "# Zero To Python\n",
    "Welcome to zero to python, in this course you are going to learn the following:\n",
    "- How to run Lines of python.\n",
    "- The basic Python data types.\n",
    "- How to use Python to...\n",
    "-"
   ]
  },
  {
   "attachments": {},
   "cell_type": "markdown",
   "metadata": {},
   "source": [
    "We are going to start this lesson by running code. Hover your mouse over the 'cell' below this one and press the run button that I have circled in red in this screenshot.\n",
    "\n",
    "![How to run a cell](img/running-a-cell.png)"
   ]
  },
  {
   "cell_type": "code",
   "execution_count": null,
   "metadata": {},
   "outputs": [],
   "source": [
    "print(\"Hello World\")"
   ]
  },
  {
   "attachments": {},
   "cell_type": "markdown",
   "metadata": {},
   "source": [
    "Great you've run your first Python code. For now lets not worry about how that worked lets write some code. I've left an empty code cell for you to work in. \n",
    "Here is your first task:\n",
    "1. Copy the code above and change the message to something of your choice (Hint: the message needs to be in single or doubble quotes)\n",
    "2. Click run."
   ]
  },
  {
   "cell_type": "code",
   "execution_count": null,
   "metadata": {},
   "outputs": [],
   "source": []
  },
  {
   "attachments": {},
   "cell_type": "markdown",
   "metadata": {},
   "source": [
    "Thats all there is too it, Python is an interpreted language so it reads things line by line this means we can write single lines of code and run them. Then the *interperter* will run the code and display the output. For now I've done the interpreter setup for you, but on most systems Python interpreters come installed or can easialy be installed."
   ]
  }
 ],
 "metadata": {
  "kernelspec": {
   "display_name": ".venv",
   "language": "python",
   "name": "python3"
  },
  "language_info": {
   "codemirror_mode": {
    "name": "ipython",
    "version": 3
   },
   "file_extension": ".py",
   "mimetype": "text/x-python",
   "name": "python",
   "nbconvert_exporter": "python",
   "pygments_lexer": "ipython3",
   "version": "3.11.1"
  }
 },
 "nbformat": 4,
 "nbformat_minor": 2
}
