{
 "cells": [
  {
   "attachments": {},
   "cell_type": "markdown",
   "metadata": {},
   "source": [
    "# Where to go now?\n",
    "\n",
    "You know enough python to attempt basic tasks loading and tasks such as processing simple numeric data is certainly possible. \n",
    "\n",
    "### Open Challenges\n",
    "\n",
    "The best way to learn is to try to solve a problem here are some suggestions as to where to start:\n",
    "\n",
    "1. Take a simple data processing task you do frequently and then write some Python code that completes that task. Check the results of your Python task against the result you get working manually. \n",
    "2. Pick a small problem you think you can solve using Python and write some code to fix it.\n",
    "3. Try taking on a programming challenge several websites provide challenges, [Project Euler](https://projecteuler.net/archives), [codecademy](https://www.codecademy.com/resources/blog/python-code-challenges-for-beginners/)\n",
    "\n",
    "\n",
    "Write code in the cell below OR create a Python script*. \n",
    "\n",
    "<details>\n",
    "<summary>What is a Python script?</summary>\n",
    "This which is like a word doc but for Python code. To do this open your favorite text editor (or IDE) and create a new file that is called something line `my_file_name.py` the `.py` signals it is Python. You can then run this using a terminal, search terminal on Mac, or see WSL on Windows. When you are in the terminal use the command `python path/to/my_file_name.py`. If you don't understand that search out a bash/shell/terminal course (coming soon...).\n",
    "</details>"
   ]
  },
  {
   "cell_type": "code",
   "execution_count": null,
   "metadata": {},
   "outputs": [],
   "source": [
    "# For your own codes you can add new cells using the \"+\" button that appears when you hover over the bottom of a cell."
   ]
  },
  {
   "attachments": {},
   "cell_type": "markdown",
   "metadata": {},
   "source": [
    "## What about bigger more challenging problems?\n",
    "\n",
    "Python has a massive community that develop tools; it is likely that if you can think it, there is a package that can help you do it. The way to find these libraries is to ask a colleague who uses Python, look at Python code that others in your field are using, or use a search engine.\n",
    "\n",
    "To find good answers in a search engine use search phrases like.\n",
    "\n",
    "`genetics package python` - [see the results](https://duckduckgo.com/?q=genetics+package+python&ia=web)\n",
    "\n",
    "or \n",
    "\n",
    "`how to invert a matrix in python` - [see the results](https://duckduckgo.com/?q=how+to+invert+a+matrix+in+python&ia=web)\n",
    "\n",
    "\n",
    "\n",
    "Python covers many domains using popular packages, so some starting points:\n",
    "\n",
    "Numerical Calculations: `numpy`\n",
    "\n",
    "Data Visualization: `seaborn`, `matplotlib`, `plotly`\n",
    "\n",
    "Scientific: `scipy`, `astropy`, `biopython`\n",
    "\n",
    "Websites: `django`, `flask`\n",
    "\n",
    "Databases: `SQLalchemy` \n",
    "\n",
    "Machine Learning: `Pytorch`, `Tensorflow`\n",
    "\n",
    "\n",
    "\n",
    "## How to use a library\n",
    "\n",
    "The first port of call is to find the package you are interested in then find it's install instructions. Usually we can use something like [PyPi](https://pypi.org/). If it can be found here then to install it one can use the terminal to run:\n",
    "\n",
    "`pip install package`\n",
    "\n",
    "or in a jupyter cell like we have been using (this is recommended less):\n",
    "\n",
    "`! pip install package`\n",
    "\n",
    "replacing `package` with the name of the library you found.\n",
    "\n",
    "Although, you may want to see the lesson on using python environments first (coming soon...)."
   ]
  }
 ],
 "metadata": {
  "kernelspec": {
   "display_name": ".venv",
   "language": "python",
   "name": "python3"
  },
  "language_info": {
   "name": "python",
   "version": "3.11.1"
  }
 },
 "nbformat": 4,
 "nbformat_minor": 2
}
