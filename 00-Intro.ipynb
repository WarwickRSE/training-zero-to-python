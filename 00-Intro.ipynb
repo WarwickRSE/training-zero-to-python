{
 "cells": [
  {
   "attachments": {},
   "cell_type": "markdown",
   "metadata": {},
   "source": [
    "# Zero To Python\n",
    "Welcome to zero to python, in this course you are going to learn the following:\n",
    "-\n",
    "-\n",
    "-"
   ]
  },
  {
   "attachments": {},
   "cell_type": "markdown",
   "metadata": {},
   "source": [
    "We are going to start this lesson by running code. Hover your mouse over the 'cell' below this one and press the play button that I have circled in red in this screenshot.\n",
    "\n",
    "<img src='./img/running-a-cell.png'>"
   ]
  },
  {
   "attachments": {},
   "cell_type": "markdown",
   "metadata": {},
   "source": [
    "We are going to start this lesson by running code. Hover your mouse over the 'cell' below this one and press the play button that I have circled in red in this screenshot.\n",
    "\n",
    "![img/running-a-cell.png](attachment:img/running-a-cell.png)"
   ]
  },
  {
   "cell_type": "code",
   "execution_count": null,
   "metadata": {},
   "outputs": [],
   "source": [
    "print(\"Hello World\")"
   ]
  }
 ],
 "metadata": {
  "kernelspec": {
   "display_name": ".venv",
   "language": "python",
   "name": "python3"
  },
  "language_info": {
   "codemirror_mode": {
    "name": "ipython",
    "version": 3
   },
   "file_extension": ".py",
   "mimetype": "text/x-python",
   "name": "python",
   "nbconvert_exporter": "python",
   "pygments_lexer": "ipython3",
   "version": "3.11.1"
  },
  "orig_nbformat": 4
 },
 "nbformat": 4,
 "nbformat_minor": 2
}
