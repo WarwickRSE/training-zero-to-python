{
 "cells": [
  {
   "attachments": {},
   "cell_type": "markdown",
   "metadata": {},
   "source": [
    "\n",
    "# Variables in Python\n",
    "In this lesson we will learn:\n",
    "- What is a variable?\n",
    "- What types of thing can I store in a variable?\n",
    "- What is an operator?\n",
    "- How do operators and variables interact?\n",
    "- How to use basic conditional logic."
   ]
  },
  {
   "attachments": {},
   "cell_type": "markdown",
   "metadata": {},
   "source": [
    "One of the key concepts in programming is storing and retrieving data. In python this is done using variables.\n",
    "\n",
    "We can think of a variable as a name we give to a piece of information we want to work with. We can then refrence this information using the name of the variable. \n",
    "\n",
    "For example:"
   ]
  },
  {
   "cell_type": "code",
   "execution_count": null,
   "metadata": {},
   "outputs": [],
   "source": [
    "my_first_variable = 10 # In this line we take the information, the number 10 and assign it to 'my_first_variable'\n",
    "\n",
    "print(my_first_variable) # In this line we print the information stored in 'my_first_variable'"
   ]
  },
  {
   "attachments": {},
   "cell_type": "markdown",
   "metadata": {},
   "source": [
    "So thats not particually helpful its not done anything more than running:\n",
    "\n",
    "\n",
    "```print(10)```\n",
    "\n",
    "However, as we assigned the number 10 to a variable we can use it again using that variable's name."
   ]
  },
  {
   "cell_type": "code",
   "execution_count": null,
   "metadata": {},
   "outputs": [],
   "source": [
    "# Here we create a new variable 'my_second_variable' and assign it the value of two times the first variable.\n",
    "my_second_variable = 2 * my_first_variable"
   ]
  },
  {
   "attachments": {},
   "cell_type": "markdown",
   "metadata": {},
   "source": [
    "So we now have two variables and we created the second by reusing the value of the first.\n",
    "\n",
    "On a side note you may have noticed that the code has some lines that start with a '#' that dont do anything.\n",
    "These are comments, they are to make the code more readable and are considered essential in programming. \n",
    "In Python a comment is started using a '#' and anything that follows it on that line will be ignored by the interpreter."
   ]
  },
  {
   "attachments": {},
   "cell_type": "markdown",
   "metadata": {},
   "source": [
    "The block below has comments describing what the code does/shoud do, I've ommited some of the code for you to write yourself. The code will follow the patterns already shown so try to copy them. When you are done click run and check you get the answer you expect."
   ]
  },
  {
   "cell_type": "code",
   "execution_count": null,
   "metadata": {},
   "outputs": [],
   "source": [
    "# Create a third variable which has the value of 30, bonus points if you use our first two variables.\n",
    "\n",
    "# Print the value of all three of our first two variables and some text.\n",
    "print(\"Our first variable has the value of\", my_first_variable)\n",
    "print(\"Our second variable was made by doubbling our first and has the value of\", my_second_variable)\n",
    "# Print the value of the third variable and some explanatory text.\n",
    "\n",
    "# Done"
   ]
  },
  {
   "attachments": {},
   "cell_type": "markdown",
   "metadata": {},
   "source": [
    "The code you wrote should look like this:\n",
    "\n",
    "<details>\n",
    "<summary>Code spoiler here!</summary>\n",
    "\n",
    "```python\n",
    "# Create a third variable which has the value of 30, bonus points if you use our first two variables.\n",
    "my_third_variable = my_first_variable + my_second_variable\n",
    "# Print the value of all three of our first two variables and some text.\n",
    "print(\"Our first variable has the value of\", my_first_variable)\n",
    "print(\"Our second variable was made by doubbling our first and has the value of\", my_second_variable)\n",
    "# Print the value of the third variable and some explanatory text.\n",
    "print(\"Our third variable was made by adding the first and second and has the value of\", my_third_variable)\n",
    "# Done\n",
    "```\n",
    "</details>"
   ]
  },
  {
   "attachments": {},
   "cell_type": "markdown",
   "metadata": {},
   "source": [
    "So far we have stored numbers in variables but in python a variable can be used to store anything*.\n",
    "\n",
    "This brings us onto the topic of data types. Python is a not what we refer to as a 'typed' language. There is no need to specify the type of your variable the interptrer will sort this for you. Also if you change the data associated with a variable then the datatype will update.\n",
    "\n",
    "I'm not going to provide a exhaustive list here but I do want to list the basics.\n",
    "\n",
    "The following sections will show you some simple data type operations by example.\n",
    "\n",
    "\n",
    "<details>\n",
    "<summary>*Anything, really?</summary>\n",
    "<br>\n",
    "Please skip this unless you really want/need to know. This is part truth part analogy and for people who want a understanding of whats going on under the hood.\n",
    "\n",
    "In Python everything is an Object. These objects are stored in computer memory. A variable is really a 'pointer', or address, to the memory that stores that object. When you use the variable it goes to that memory address picks up the object and does some work to figure out what that object is and how it should proceed. In most cases this is simple, it goes to the memory figures out its looking at a number then can do 'number things' with that number. However, as anything is an object and anything can thus be assigned to a variable we can use variables to store (or point at) anything in Python. In Python we find functions, classes, iterators, dictonaries... these can all be assigned to a variable. This gives an enormous amount of flexibility to python, **however**, just because you can dosen't mean you should. It's also worth noting if you come from a C background a python variable will act like a pointer or a value depending on the object type, and this gets worse when you use libraries which may for good reason break with the built-in data types.\n",
    "\n",
    "Now, if you read and understood that, then you could probably skip the rest of this course. A good understanding of this comes from getting this wrong for 5+ years and learning when to be careful.\n",
    "</details>"
   ]
  },
  {
   "attachments": {},
   "cell_type": "markdown",
   "metadata": {},
   "source": [
    "Lets start by looking at numeric types:\n",
    "\n",
    "```int```: A integer value. \n",
    "\n",
    "```float```: A decimal value\n",
    "\n",
    "\n",
    "In the following cells I am going to create two variables then show using ```type()``` how they interact with one another."
   ]
  },
  {
   "cell_type": "code",
   "execution_count": null,
   "metadata": {},
   "outputs": [],
   "source": [
    "# Create variables\n",
    "my_int = 2\n",
    "my_float = 3.0\n",
    "\n",
    "# Print their types\n",
    "print(\"'my_int' has type:\", type(my_int))\n",
    "print(\"'my_int' has type:\", type(my_float))"
   ]
  },
  {
   "attachments": {},
   "cell_type": "markdown",
   "metadata": {},
   "source": [
    "The next few cells are for you to explore how `float`s and `int`s interact.\n",
    "\n",
    "I want you to use some 'arithmetic operators'* to combine the variables and see what type the result is. Let me get you started with the addition operator `+`.\n",
    "\n",
    "The list of arithmetic operators are `+`,`-`,`*`,`/`,`%`,`**`, and `//`.\n",
    "\n",
    "<details>\n",
    "<summary>Operators additional info</summary>\n",
    "<br>\n",
    "There are loads of operators in programming languages. \n",
    "\n",
    "Python has the following operator groups:\n",
    "\n",
    "Arithmetic operators, Assignment operators, Comparison operators,Logical operators, Identity operators, Membership operators, and Bitwise operator\n",
    "\n",
    "</details>"
   ]
  },
  {
   "cell_type": "code",
   "execution_count": null,
   "metadata": {},
   "outputs": [],
   "source": [
    "# I'm going to use a temporaty variable here `my_tmp`, which I will reassign afeter every step.\n",
    "\n",
    "# The `+` operator\n",
    "# int,int\n",
    "my_tmp = my_int + my_int\n",
    "print(type(my_tmp))\n",
    "# float,float\n",
    "my_tmp = my_float + my_float\n",
    "print(type(my_tmp))\n",
    "# int,float\n",
    "my_tmp = my_int + my_float\n",
    "print(type(my_tmp))\n",
    "# float,int\n",
    "my_tmp = my_float + my_int\n",
    "print(type(my_tmp))"
   ]
  },
  {
   "attachments": {},
   "cell_type": "markdown",
   "metadata": {},
   "source": [
    "We see that in all cases apart from adding two interger values the resulting type is a float.\n",
    "\n",
    "Use the example above as a template to test the rest of the types then have a think about the following questions."
   ]
  },
  {
   "cell_type": "code",
   "execution_count": null,
   "metadata": {},
   "outputs": [],
   "source": [
    "# Using the `+` code as an example write your tests here. \n",
    "# You can even add new cells using the '+ code' button that appears \n",
    "# if you hover your mouse at the bottom of this cell, or the '+ code'\n",
    "# button in the top left corner of the notebook.\n",
    "\n"
   ]
  },
  {
   "attachments": {},
   "cell_type": "markdown",
   "metadata": {},
   "source": [
    "### Answers\n",
    "\n",
    "I've written some python magic to print all the answers in one cell."
   ]
  },
  {
   "cell_type": "code",
   "execution_count": null,
   "metadata": {},
   "outputs": [],
   "source": [
    "# Dont worry about the code here just run it to get the answers.\n",
    "from example_helpers import check_combo\n",
    "\n",
    "my_int = 2\n",
    "my_float = 3.0\n",
    "\n",
    "for my_op in ['+', '-', '*', '/', '%', '**', '//' ]:\n",
    "    print(f\"\\nAnswers for {my_op}\")\n",
    "    check_combo(my_op, my_int, my_float)"
   ]
  },
  {
   "attachments": {},
   "cell_type": "markdown",
   "metadata": {},
   "source": [
    "There is somthing worth pausing to note here. \n",
    "\n",
    " Unless both inputs are integer the resultant type is `float`, the exception to this is a division where even when both inputs are integer the result is `float`. Python is trying to use a type that covers all possible outcomes*.\n",
    "\n",
    "<details>\n",
    "<summary>More on type outcomes</summary>\n",
    " Because Python does not have strict type definitions, the operations are trying to preserve information and thus the float type is used when a `float` is a possible result. For example here `2/2 = 1` which we know is fine to be `int` however as the interpreter is unable to know this it defaults to `float` as float is the correct result for other divisions such as `2/4 = 0.5` this protects loss of data at the cost of performance. \n",
    " \n",
    " However, if one were to try:\n",
    "\n",
    "```python\n",
    "ans = (-1)**0.5\n",
    "print(ans)\n",
    "print(type(ans))\n",
    "```\n",
    "(6.123233995736766e-17+1j)\n",
    "\n",
    "<class 'complex'>\n",
    "\n",
    "One would get the type 'complex' not only that it gives the _wrong_ answer with a very small real component. \n",
    "\n",
    "So in fact Python in returning float giving a result that covers the majority of solutions but we still need to be careful as the above won't tell you it will simply run as a complex calculation. This kind of variable typing is very useful when we are just getting to grips with programming but its a real headache when we need to write roboust programmes.\n",
    "\n",
    "</details>\n"
   ]
  },
  {
   "attachments": {},
   "cell_type": "markdown",
   "metadata": {},
   "source": [
    "### More data types\n",
    "\n",
    "So we have looked at numerics but beyond this there are a whole raft of other types. We are going to quickly cover the two next most prevelent _'simple'_ types before moving on to types that can hold more information.\n",
    "\n",
    "\n",
    "A really important operation in computing, and science, is comparision. However, in computing we can only make exact comparisions computers lack any kind of nuance. This brings us onto the Boolean Type.\n",
    "\n",
    "The Boolean Type or `bool` has two possible values `True` or `False`. Recall ealier we had the arathmitic operators, now we can consider the Comparision operators.\n",
    "\n",
    "\n",
    "| Name                     | Operator | Example   | Description                                                   |\n",
    "|--------------------------|----------|-----------|---------------------------------------------------------------|\n",
    "| Equal                    | `==`     | `a == b`  | Tests if the variables a and b are equal                      |\n",
    "| Not Equal                | `!=`     | `a != b`  | Tests if the variables a and b are not equal                  |\n",
    "| Greater Than             | `>`      | `a > b`   | Tests if the variable a is larger than the variable b         |\n",
    "| Less Than                | `<`      | `a < b`   | Tests if the variable a is smaller than the variable b        |\n",
    "| Greater Than or Equal To | `>=`     | `a >= b`  | Tests if the variable a is larger or equal to the variable b  |\n",
    "| Less Than or Equal To    | `<=`     | `a <= b`  | Tests if the variable a is smaller or equal to the variable b |\n",
    "\n",
    "\n",
    "All of these operators will out put the `bool` type which we can then use. \n",
    "\n",
    "But first have a play with the operators above and see the output by modifying the code below."
   ]
  },
  {
   "cell_type": "code",
   "execution_count": null,
   "metadata": {},
   "outputs": [],
   "source": [
    "# Define the values of a and b. Hint: try using combonations of floats and ints, varying both the type and value.\n",
    "a = 1\n",
    "b = 2\n",
    "\n",
    "# Print the result of the comparision. Hint: use multiple print statments with different operators.\n",
    "print(a == b)"
   ]
  },
  {
   "attachments": {},
   "cell_type": "markdown",
   "metadata": {},
   "source": [
    "<details>\n",
    "<summary>Example code for above cell</summary>\n",
    "\n",
    "I'm using what is called a formatted string or 'f-string' to tidy up my print statements its really simple before opening the quote you put the letter `f` then you can use curly brackets in the string to print variables inline, neat!\n",
    "\n",
    "```python\n",
    "a = 1.0\n",
    "b = 10\n",
    "\n",
    "print(f\"a has value {a} and type {type(a)}, b has value {b} and type {type(b)}\")\n",
    "print(f\"Comparing a and b with the '>' operator we find it returns {a > b} \")\n",
    "\n",
    "```\n",
    "\n",
    "The above gives the following output.\n",
    "\n",
    "```output\n",
    "a has value 1.0 and type <class 'float'>, b has value 10 and type <class 'int'>\n",
    "Comparing a and b with the '>' operator we find it returns False \n",
    "```\n",
    "\n",
    "</details>"
   ]
  },
  {
   "attachments": {},
   "cell_type": "markdown",
   "metadata": {},
   "source": [
    "Now this is useful on its own but it gets more useful when we can combine conditions using logical operators:\n",
    "\n",
    "| Operator | Symbol | Example   | Description                                           |\n",
    "|----------|--------|-----------|-------------------------------------------------------|\n",
    "| and      | `and`  | `a and b` | Returns True when a and b are True                    |\n",
    "| or       | `or`   | `a or b`  | Rerurns True when one of a or b are true              |\n",
    "| not      | `not`  | `not a`   | Returns True when a is False and False when a is True |\n",
    "\n",
    "Logical operators work on two `bool`s and result in another bool.\n",
    "\n",
    "Before running the following code can you guess the output of each print statement."
   ]
  },
  {
   "cell_type": "code",
   "execution_count": null,
   "metadata": {},
   "outputs": [],
   "source": [
    "# Define the values of a and b.\n",
    "a = True\n",
    "b = False\n",
    "\n",
    "# 1.\n",
    "ans = a and b\n",
    "print(ans)\n",
    "# 2.\n",
    "ans = not a\n",
    "print(ans)\n",
    "# 3.\n",
    "ans = b or a\n",
    "print(ans)\n",
    "# 4.\n",
    "ans =  not a or not b\n",
    "print(ans)\n",
    "# 5.\n",
    "ans = not (b or a)\n",
    "print(ans)\n",
    "\n",
    "# Bonus questions\n",
    "\n",
    "# 6.\n",
    "ans = a != b\n",
    "print(ans)\n",
    "# 7.\n",
    "ans = a != a\n",
    "print(ans)\n",
    "# 8.\n",
    "ans = b != b\n",
    "print(ans)"
   ]
  },
  {
   "attachments": {},
   "cell_type": "markdown",
   "metadata": {},
   "source": [
    "<details>\n",
    "<summary>Discussion of above</summary>\n",
    "\n",
    "Most of the conditions are faily normal logic. The bonus questions are an example of XOR which is another logical construct that isnt explicitly defined in python but works using the not equal operator. \n",
    "\n",
    "</details>\n",
    "\n",
    "\n",
    "##### Bools and Numerics \n",
    "\n",
    "As an aside it is worth noting that in Python if you pass `0` to a logical operator then it will understand it as `False`, also if you pass `1` (or any number that isn't `0`) to a logical operator it will regard this as `True`. The inverse also applies, so `True` can equal 1 and `False` can equal `0`.\n",
    "\n",
    "In the following cell you can test this and the consequences of this by sending `bool`s or `0`&`1` into the arethmetic and comparative operators.\n",
    "\n",
    "Try the following to get started then see if you can find any other intresting behaviour.\n",
    "\n",
    "1. `True >= True`\n",
    "2. `False + 1`\n",
    "3. `True + True`\n",
    "4. `0 and True`"
   ]
  },
  {
   "cell_type": "code",
   "execution_count": null,
   "metadata": {},
   "outputs": [],
   "source": [
    "print(True >= True)"
   ]
  },
  {
   "attachments": {},
   "cell_type": "markdown",
   "metadata": {},
   "source": [
    "#### Conditionals\n",
    "\n",
    "All the above is well and good but sometimes we need to make a decision based on our logic. This is where we use conditionals, in Python this takes the form of the `if...else` block.\n",
    "\n",
    "In the next cell I include a highly documented conditional, run it and see if you can understand the output.\n",
    "\n",
    "But wait! Before we do that there is one very important concept we have been avoiding, and that is _**indentation**_!\n",
    "\n",
    "Simply Python uses indentation to seperate blocks of code, we need to bring it up now as our `if...else` statement will require blocks to work. Here is a very simple example:\n",
    "\n",
    "```python\n",
    "if False:\n",
    "    print(\"This won't print\")\n",
    "\n",
    "if True:\n",
    "    print(\"This will print\")\n",
    "```\n",
    "\n",
    "Note how the print statements are intdented. You can use any number of spaces to indent but most common is 4. The indentation tells Python that that code is part of the block. When you start a block it must be followed by indented code then when the indentation is removed Python knows the block is over."
   ]
  },
  {
   "cell_type": "code",
   "execution_count": null,
   "metadata": {},
   "outputs": [],
   "source": [
    "# Lets set up some variables to test in our conditional.\n",
    "a = 1\n",
    "b = 2\n",
    "\n",
    "# Conditionals can be as simple as a single if then a logical test:\n",
    "if b > a:\n",
    "    # if the conditional passes then we enter this code block and print\n",
    "    print('b > a')\n",
    "\n",
    "# Code that is unindented will run after the conditional regardless of if the conditional passed.\n",
    "print('All done')\n",
    "\n",
    "# Try modifying the values of a and b so the conditional fails. Or modify the operator to make the conditon fail!"
   ]
  },
  {
   "attachments": {},
   "cell_type": "markdown",
   "metadata": {},
   "source": [
    "Here is a visusal representation of the above, starting at the top and following the 'flow' we can see how our code branches.\n",
    "On the left you can see the code above and on the right you can see a generic representation of an if conditional.\n",
    "\n",
    "![Flowcahrt of an if diagram, with code](img/if-specific.png) | ![Flowcahrt of an if diagram](img/if.png)\n",
    "\n",
    "The following two challanges ask you to create these diagrams, you can draw them by hand or on [draw.io](https://app.diagrams.net/)."
   ]
  },
  {
   "cell_type": "code",
   "execution_count": null,
   "metadata": {},
   "outputs": [],
   "source": [
    "# Lets set up some variables to test in our conditional.\n",
    "a = 1\n",
    "b = 2\n",
    "\n",
    "# Lets start with the same logical test:\n",
    "if b > a:\n",
    "    print('b > a')\n",
    "# However, we can follow the if up with else, when the if fails the code in the else block will tun\n",
    "else:\n",
    "    # if the conditional above fails the else block runs\n",
    "    print('b < a')\n",
    "\n",
    "print('All done')\n",
    "\n",
    "# Try modifying the values of a and b so the conditional fails and the code in else runs."
   ]
  },
  {
   "cell_type": "markdown",
   "metadata": {},
   "source": [
    "### Challange \n",
    "Draw a generic flowchart representation of the above code.\n",
    "\n",
    "<details>\n",
    "<summary>Solution</summary>\n",
    "\n",
    "![Flowcahrt of an if else diagram](img/if-else.png)\n",
    "\n",
    "</details>"
   ]
  },
  {
   "cell_type": "code",
   "execution_count": 1,
   "metadata": {},
   "outputs": [
    {
     "name": "stdout",
     "output_type": "stream",
     "text": [
      "b greater than a\n",
      "All done\n"
     ]
    }
   ],
   "source": [
    "# Lets set up some variables to test in our conditional.\n",
    "a = 1\n",
    "b = 2\n",
    "\n",
    "if b > a:\n",
    "    print('b greater than a')\n",
    "# we can chain multiple conditionals using elif which means 'else if'\n",
    "elif b == a:\n",
    "    # if the conditional before this fails, but this conditonal passes then this block runs\n",
    "    print('b is equal to a')\n",
    "else:\n",
    "    print('b is less than a')\n",
    "\n",
    "print('All done')\n",
    "\n",
    "# Try modifying the values of a and b so the first conditional fails and the code in elif runs."
   ]
  },
  {
   "attachments": {},
   "cell_type": "markdown",
   "metadata": {},
   "source": [
    "### Challange \n",
    "Draw a generic flowchart representation of the above code.\n",
    "\n",
    "<details>\n",
    "<summary>Solution</summary>\n",
    "\n",
    "![Flowcahrt of an if elif else diagram](img/if-elif-else.png)\n",
    "\n",
    "</details>"
   ]
  },
  {
   "cell_type": "code",
   "execution_count": 2,
   "metadata": {},
   "outputs": [
    {
     "name": "stdout",
     "output_type": "stream",
     "text": [
      "1st block\n",
      "done\n"
     ]
    }
   ],
   "source": [
    "# One final note, have a think about what output you expect from \n",
    "# this conditional block then run it, if it helps draw another flow diagram.\n",
    "a=3\n",
    "b=2\n",
    "c=1\n",
    "\n",
    "if a > b:\n",
    "    print(\"1st block\")\n",
    "elif a > c:\n",
    "    print(\"2nd block\")\n",
    "else:\n",
    "    print(\"3rd block\")\n",
    "\n",
    "print('done')"
   ]
  },
  {
   "attachments": {},
   "cell_type": "markdown",
   "metadata": {},
   "source": [
    "<details>\n",
    "<summary>Solution</summary>\n",
    "\n",
    "The above code prints 1st block. While the conditional `a > c` would pass python will only evaluate it if the conditional above fails. You can end up with unreachable code.\n",
    "\n",
    "Can you modify the inputs to get '2nd block' to print how about '3rd block'?\n",
    "</details>"
   ]
  },
  {
   "attachments": {},
   "cell_type": "markdown",
   "metadata": {},
   "source": [
    "One takeaway from this is: If you can draw your process using a chart like these then it can be written as code. "
   ]
  },
  {
   "attachments": {},
   "cell_type": "markdown",
   "metadata": {},
   "source": [
    "## Challange\n",
    "\n",
    "Throughout this course we are going to use _fizzbuzz_ (and some adaptations of) to learn to apply the skills in each section.\n",
    "\n",
    "<details>\n",
    "<summary>Click here for an explanation of fizzbuzz</summary>\n",
    "\n",
    "Fizzbuzz is a game where one counts numbers but if there is a multiple of 3 one instead says _fizz_ and if there is a multiple of 5 one says _buzz_. If the number is a multiple of 3 and 5 then we need to say _fizzbuzz_.\n",
    "\n",
    "</details>\n",
    "\n",
    "\n",
    "<details>\n",
    "<summary>Hint 1 - Give me somthing to start with</summary>\n",
    "\n",
    "My solution starts by checking if a number is fizzed, buzzed, or fizzbuzzed. Then uses conditionals to print the correct output.\n",
    "\n",
    "</details>\n",
    "\n",
    "<details>\n",
    "<summary>Hint 2 - What operator do I need?</summary>\n",
    "\n",
    "You will need to use `%` and `==` as well as an `if...elseif...elseif...else` structue.\n",
    "\n",
    "</details>\n",
    "\n",
    "<details>\n",
    "<summary>Hint 3 - Show me the first half and I will figure out the rest</summary>\n",
    "\n",
    "```python\n",
    "number_to_fizzbuzz = 15\n",
    "is_number_fizz = number_to_fizzbuzz%3 == 0\n",
    "# Finish precalculating what to fizz, buzz and fizzbuzz\n",
    "\n",
    "if():\n",
    "    # output ???\n",
    "elif():\n",
    "    # output ???\n",
    "# Finish this if...elseif...elseif...else\n",
    "```\n",
    "</details>\n",
    "\n",
    "<details>\n",
    "<summary>Hint 4 - Give me a 'fill in the blanks' scipt</summary>\n",
    "\n",
    "```python\n",
    "\n",
    "number_to_fizzbuzz = 15\n",
    "is_number_fizz = number_to_fizzbuzz%3 == 0\n",
    "is_number_buzz = \n",
    "is_number_fizzbuzz =  and \n",
    "\n",
    "if():\n",
    "    print('fizzbuzz')\n",
    "elif():\n",
    "    print('fizz')\n",
    "elif():\n",
    "    print()\n",
    "else:\n",
    "    print()\n",
    "```\n",
    "</details>\n",
    "\n",
    "\n",
    "To check your script check the output follows this table:\n",
    "\n",
    "| Input | Output   |\n",
    "|-------|----------|\n",
    "| 1     | 1        |\n",
    "| 3     | fizz     |\n",
    "| 5     | buzz     |\n",
    "| 15    | fizzbuzz |\n",
    "\n",
    "\n",
    "#### Solution\n",
    "\n",
    "<details>\n",
    "<summary>One of many solutions</summary>\n",
    "\n",
    "This is one of many solutions as long as your result works it's fine for now!\n",
    "\n",
    "```python\n",
    "# Assign number to fizzbuzz\n",
    "number_to_fizzbuzz = 15\n",
    "# check if the modulus of the number is 0 if it is its a multiple!\n",
    "is_number_fizz = number_to_fizzbuzz%3 == 0\n",
    "is_number_buzz = number_to_fizzbuzz%5 == 0\n",
    "# if both multiples then we need to fizzbuzz\n",
    "is_number_fizzbuzz = is_number_fizz and is_number_buzz\n",
    "\n",
    "# Check fizzbuzz first \n",
    "# Then use two elif conditionals to check fizz then buzz\n",
    "# Finally use else to print the number if none of the conditionals pass.\n",
    "\n",
    "if(is_number_fizzbuzz):\n",
    "    print('fizzbuzz')\n",
    "elif(is_number_fizz):\n",
    "    print('fizz')\n",
    "elif(is_number_buzz):\n",
    "    print('buzz')\n",
    "else:\n",
    "    print(number_to_fizzbuzz)\n",
    "\n",
    "```\n",
    "</details>"
   ]
  },
  {
   "cell_type": "code",
   "execution_count": null,
   "metadata": {},
   "outputs": [],
   "source": [
    "# Write your fizzbuzz here! "
   ]
  }
 ],
 "metadata": {
  "kernelspec": {
   "display_name": "Python 3 (ipykernel)",
   "language": "python",
   "name": "python3"
  },
  "language_info": {
   "codemirror_mode": {
    "name": "ipython",
    "version": 3
   },
   "file_extension": ".py",
   "mimetype": "text/x-python",
   "name": "python",
   "nbconvert_exporter": "python",
   "pygments_lexer": "ipython3",
   "version": "3.11.1"
  },
  "orig_nbformat": 4
 },
 "nbformat": 4,
 "nbformat_minor": 2
}
